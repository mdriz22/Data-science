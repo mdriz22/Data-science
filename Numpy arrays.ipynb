{
 "cells": [
  {
   "cell_type": "code",
   "execution_count": 5,
   "id": "7282fdb3",
   "metadata": {},
   "outputs": [
    {
     "name": "stdout",
     "output_type": "stream",
     "text": [
      "List in python :  [5, 6, 7, 8]\n",
      "Numpy Array in python : [1 2 3 4]\n"
     ]
    }
   ],
   "source": [
    "# importing numpy module\n",
    "import numpy as np\n",
    "list=[5,6,7,8]\n",
    "sample_array = np.array([1,2,3,4])\n",
    "print(\"List in python : \", list)\n",
    "print(\"Numpy Array in python :\", sample_array)"
   ]
  },
  {
   "cell_type": "code",
   "execution_count": 6,
   "id": "db31f770",
   "metadata": {},
   "outputs": [
    {
     "name": "stdout",
     "output_type": "stream",
     "text": [
      "Numpy multi dimensional array in python\n",
      " [[ 1  2  3  4]\n",
      " [ 5  6  7  8]\n",
      " [ 9 10 11 12]]\n"
     ]
    }
   ],
   "source": [
    "# importing numpy module\n",
    "import numpy as np\n",
    "# creating list\n",
    "list_1 = [1, 2, 3, 4]\n",
    "list_2 = [5, 6, 7, 8]\n",
    "list_3 = [9, 10, 11, 12]\n",
    "# creating numpy array\n",
    "sample_array = np.array([list_1, list_2, list_3])\n",
    "print(\"Numpy multi dimensional array in python\\n\", sample_array)"
   ]
  }
 ],
 "metadata": {
  "kernelspec": {
   "display_name": "Python 3 (ipykernel)",
   "language": "python",
   "name": "python3"
  },
  "language_info": {
   "codemirror_mode": {
    "name": "ipython",
    "version": 3
   },
   "file_extension": ".py",
   "mimetype": "text/x-python",
   "name": "python",
   "nbconvert_exporter": "python",
   "pygments_lexer": "ipython3",
   "version": "3.9.12"
  }
 },
 "nbformat": 4,
 "nbformat_minor": 5
}
